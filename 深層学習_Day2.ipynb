{
 "cells": [
  {
   "cell_type": "markdown",
   "metadata": {},
   "source": [
    "[![バナー画像](http://ai999.careers/bnr_jdla.png)](http://study-ai.com/jdla/)"
   ]
  },
  {
   "cell_type": "markdown",
   "metadata": {},
   "source": [
    "URL: <http://study-ai.com/jdla/>"
   ]
  },
  {
   "cell_type": "markdown",
   "metadata": {},
   "source": [
    "# <b>深層学習: Day2"
   ]
  },
  {
   "cell_type": "markdown",
   "metadata": {},
   "source": [
    "* 学習の流れを復習\n",
    " 1. 入力層に値を入力\n",
    " 2. 重み、バイアス、活性化関数で計算しながら値が伝わる\n",
    " 3. 出力層から値が伝わる\n",
    " 4. 出力層から出た値と正解値から、誤差関数を使って誤差を求める\n",
    " 5. 誤差を小さくするために重みやバイアスを更新する\n",
    " 6. 1～5の操作を繰り返すことにより、出力値を正解値に近づけていく"
   ]
  },
  {
   "cell_type": "markdown",
   "metadata": {},
   "source": [
    "## <b>Section1: 勾配消失問題"
   ]
  },
  {
   "cell_type": "markdown",
   "metadata": {},
   "source": [
    "<b>要点まとめ"
   ]
  },
  {
   "cell_type": "markdown",
   "metadata": {},
   "source": [
    "<b>誤差逆伝播法を用いる場合に、下位層に進んでいくに連れて、勾配がどんどん緩やかになりパラメータがほとんど変化しなくなる勾配消失問題が発生する。これを回避するためにReLU関数など工夫された活性化関数を用いる、初期値を工夫する、バッチ正規化を用いるといったの手法が考案されている。"
   ]
  },
  {
   "cell_type": "markdown",
   "metadata": {},
   "source": [
    "### <b>Section1の全体像（前回の流れと課題全体像のビジョン）"
   ]
  },
  {
   "cell_type": "markdown",
   "metadata": {},
   "source": [
    "* 誤差逆伝播法の復習\n",
    " * 計算結果（＝誤差）から微分を逆算することで、不要な再帰的計算を避けて微分を算出できる"
   ]
  },
  {
   "cell_type": "markdown",
   "metadata": {},
   "source": [
    "### <b>確認テスト1"
   ]
  },
  {
   "cell_type": "markdown",
   "metadata": {},
   "source": [
    "#### <b>【問題】"
   ]
  },
  {
   "cell_type": "markdown",
   "metadata": {},
   "source": [
    "連鎖率の原理を使い、dz/dxを求めよ。<br>\n",
    "z = t^2<br>\n",
    "t = x + y"
   ]
  },
  {
   "cell_type": "markdown",
   "metadata": {},
   "source": [
    "#### <b>【解答】"
   ]
  },
  {
   "cell_type": "markdown",
   "metadata": {},
   "source": [
    "dz/dt = 2t<br>\n",
    "dt/dx = 1<br>\n",
    "dz/dx = dz/dt・dt/dx = 2t * 1 = 2t = 2(x + y)"
   ]
  },
  {
   "cell_type": "markdown",
   "metadata": {},
   "source": [
    "#### <b>「確認テスト1」について自身の考察結果"
   ]
  },
  {
   "cell_type": "markdown",
   "metadata": {},
   "source": [
    "<b>連鎖率の基本的な問題。dz/dxを直接求めることはできないため、いったんdtを介するのがポイント。"
   ]
  },
  {
   "cell_type": "markdown",
   "metadata": {},
   "source": [
    "* ソースコード"
   ]
  },
  {
   "cell_type": "markdown",
   "metadata": {},
   "source": [
    "delta2 = functions.d_mean_squared_error(d, y) # 出力層でのデルタ<br>\n",
    "delta1 = np.dot(delta2, W2.T) * functions.d_sigmoid(z1) # 連鎖率の計算"
   ]
  },
  {
   "cell_type": "markdown",
   "metadata": {},
   "source": [
    "* 勾配消失問題の復習\n",
    " * 誤差逆伝播法が下位層に進んでいくに連れて、勾配がどんどん緩やかになっていく。そのため、勾配降下法による、更新では下位層のパラメータはほとんど変わらず、訓練は最適値に収束しなくなる。\n",
    "<br><br>\n",
    "* 勾配消失の解決方法\n",
    " * 活性化関数の選択\n",
    " * 重みの初期値設定\n",
    " * バッチ正規化"
   ]
  },
  {
   "cell_type": "markdown",
   "metadata": {},
   "source": [
    "### <b>確認テスト2"
   ]
  },
  {
   "cell_type": "markdown",
   "metadata": {},
   "source": [
    "#### <b>【問題】"
   ]
  },
  {
   "cell_type": "markdown",
   "metadata": {},
   "source": [
    "シグモイド関数を微分した時、入力値が0の時に最大値をとる。その値として正しいものを選択肢から選べ。"
   ]
  },
  {
   "cell_type": "markdown",
   "metadata": {},
   "source": [
    "#### <b>【解答】"
   ]
  },
  {
   "cell_type": "markdown",
   "metadata": {},
   "source": [
    "0.25"
   ]
  },
  {
   "cell_type": "markdown",
   "metadata": {},
   "source": [
    "#### <b>「確認テスト2」について自身の考察結果"
   ]
  },
  {
   "cell_type": "markdown",
   "metadata": {},
   "source": [
    "<b>シグモイド関数f(x) = 1/(1+e^-x)を微分するとf'(x) = (1 - f(x))*f(x)で表される。x = 0のとき、シグモイド関数は最大値f(0) = 1/2をとるため、このときシグモイド関数の微分f'(x)はf'(0) = (1 - (1/2)) * (1/2) = 1/4 = 0.25をとる。"
   ]
  },
  {
   "cell_type": "markdown",
   "metadata": {},
   "source": [
    "### <b>1-1 活性化関数"
   ]
  },
  {
   "cell_type": "markdown",
   "metadata": {},
   "source": [
    "* ReLU関数"
   ]
  },
  {
   "cell_type": "markdown",
   "metadata": {},
   "source": [
    "$$\n",
    "f(x) = \\begin{cases}\n",
    "    x & (x > 0) \\\\\n",
    "    0 & (x \\leqq 0)\n",
    "  \\end{cases}\n",
    "$$"
   ]
  },
  {
   "cell_type": "markdown",
   "metadata": {},
   "source": [
    "* サンプルコード"
   ]
  },
  {
   "cell_type": "code",
   "execution_count": 1,
   "metadata": {},
   "outputs": [
    {
     "data": {
      "image/png": "[encoded data removed]",
      "text/plain": [
       "<Figure size 432x288 with 1 Axes>"
      ]
     },
     "metadata": {
      "needs_background": "light"
     },
     "output_type": "display_data"
    }
   ],
   "source": [
    "import numpy as np\n",
    "import matplotlib.pylab as plt\n",
    "\n",
    "#ReLU関数の定義\n",
    "def relu(x):\n",
    "    return np.maximum(0,x)\n",
    "\n",
    "x = np.arange(-5.0, 5.0, 0.1)\n",
    "y = relu(x)\n",
    "\n",
    "plt.plot(x,y)\n",
    "plt.show()"
   ]
  },
  {
   "cell_type": "markdown",
   "metadata": {},
   "source": [
    "* 特徴\n",
    " * 今最も使われている活性化関数\n",
    " * <u>勾配消失問題</u>の回避と<u>スパース化</u>に貢献することで良い成果をもたらしている。"
   ]
  },
  {
   "cell_type": "markdown",
   "metadata": {},
   "source": [
    "### <b>1-2 初期値の設定方法"
   ]
  },
  {
   "cell_type": "markdown",
   "metadata": {},
   "source": [
    "* 重みの初期値設定- Xavier（ザビエル）\n",
    " * 通常は乱数で初期値を与えるが、Xavierの方法では重みの要素を前の層のノード数の平方根で除算した値を初期値として与える\n",
    " * Xavierの初期値を設定する際の活性化関数\n",
    "   * ReLU関数\n",
    "   * シグモイド（ロジスティック）関数\n",
    "   * 双曲線正接関数"
   ]
  },
  {
   "cell_type": "markdown",
   "metadata": {},
   "source": [
    "* 重みの初期値設定- He\n",
    " * Heの初期値では重みの要素を前の層のノード数の平方根で除算した値に対し√2を掛け合わせた値を用いる\n",
    " * Heの初期値を設定する際の活性化関数\n",
    "   * ReLU関数"
   ]
  },
  {
   "cell_type": "markdown",
   "metadata": {},
   "source": [
    "### <b>確認テスト3"
   ]
  },
  {
   "cell_type": "markdown",
   "metadata": {},
   "source": [
    "#### <b>【問題】"
   ]
  },
  {
   "cell_type": "markdown",
   "metadata": {},
   "source": [
    "重みの初期値に0を設定すると、どのような問題が発生するか。簡潔に説明せよ。"
   ]
  },
  {
   "cell_type": "markdown",
   "metadata": {},
   "source": [
    "#### <b>【解答】"
   ]
  },
  {
   "cell_type": "markdown",
   "metadata": {},
   "source": [
    "重みの初期値を0にすると正しい学習が行えない。"
   ]
  },
  {
   "cell_type": "markdown",
   "metadata": {},
   "source": [
    "#### <b>「確認テスト3」について自身の考察結果"
   ]
  },
  {
   "cell_type": "markdown",
   "metadata": {},
   "source": [
    "<b>すべての重みの値が均一に更新されるため、多数の重みをもつ意味がなくなる（ディープラーニングとして中間層の数を増やしていくことに意味がなくなる）。そのため、初期値は0ではないなんらかの値を与えることが必要となる。"
   ]
  },
  {
   "cell_type": "markdown",
   "metadata": {},
   "source": [
    "### <b>1-3 バッチ正規化"
   ]
  },
  {
   "cell_type": "markdown",
   "metadata": {},
   "source": [
    "* バッチ正規化\n",
    " * ミニバッチ単位で、入力値のデータの偏りを抑制する手法\n",
    "<br><br>\n",
    "* バッチ正規化の使い所\n",
    " * 活性化関数に値を渡す前後に、バッチ正規化の処理を孕んだ層を加える"
   ]
  },
  {
   "cell_type": "markdown",
   "metadata": {},
   "source": [
    "### <b>確認テスト4"
   ]
  },
  {
   "cell_type": "markdown",
   "metadata": {},
   "source": [
    "#### <b>【問題】"
   ]
  },
  {
   "cell_type": "markdown",
   "metadata": {},
   "source": [
    "一般的に考えられるバッチ正規化の効果を2点挙げよ。"
   ]
  },
  {
   "cell_type": "markdown",
   "metadata": {},
   "source": [
    "#### <b>【解答】"
   ]
  },
  {
   "cell_type": "markdown",
   "metadata": {},
   "source": [
    "* 学習がうまくいきやすくなる（安定化される）\n",
    "* 過学習しにくくなる"
   ]
  },
  {
   "cell_type": "markdown",
   "metadata": {},
   "source": [
    "#### <b>「確認テスト4」について自身の考察結果"
   ]
  },
  {
   "cell_type": "markdown",
   "metadata": {},
   "source": [
    "<b>例として、4000枚の画像を訓練データと検証データとして8:2に分割する場合、3200枚の訓練データを一度に学習することは計算負荷が大きく困難となるため、小分けに分割したミニバッチごとに学習が行われる。バッチ正規化では各層において活性化関数を掛ける前に伝播してきたデータを正規化するという処理を加える。"
   ]
  },
  {
   "cell_type": "markdown",
   "metadata": {},
   "source": [
    "<b>【参考文献】日本ディープラーニング協会, ディープラーニングG検定公式テキスト, 2018, p153-154"
   ]
  },
  {
   "cell_type": "markdown",
   "metadata": {},
   "source": [
    "### <b>例題チャレンジ1"
   ]
  },
  {
   "cell_type": "markdown",
   "metadata": {},
   "source": [
    "#### <b>【問題】"
   ]
  },
  {
   "cell_type": "markdown",
   "metadata": {},
   "source": [
    "特徴データdata_x, ラベルデータdata_tに対してミニバッチ学習を行う以下のプログラムについて、（き）にあてはまるのはどれか。"
   ]
  },
  {
   "cell_type": "code",
   "execution_count": 1,
   "metadata": {},
   "outputs": [],
   "source": [
    "# def train(data_x, data_t, n_epoch, batch_size):\n",
    "#    \"\"\"\n",
    "#    data_x: training data (features)\n",
    "#    data_t: training data (labels)\n",
    "#    e_epoch: number of epochs\n",
    "#    batch_size: mini batch size\n",
    "#    \"\"\"\n",
    "#    N = len(data_x)\n",
    "#    for epoch in range(n_epoch):\n",
    "#        shuffle_idx = np.random.permutation(N)\n",
    "#        for i in range(0, N, batch_size):\n",
    "#            i_end = i + batch_size\n",
    "#            batch_x, batch_t = （   き   ）\n",
    "#            _update(batch_x, batch_t)"
   ]
  },
  {
   "cell_type": "markdown",
   "metadata": {},
   "source": [
    "#### <b>【解答】"
   ]
  },
  {
   "cell_type": "code",
   "execution_count": 5,
   "metadata": {},
   "outputs": [],
   "source": [
    "def train(data_x, data_t, n_epoch, batch_size):\n",
    "   \"\"\"\n",
    "   data_x: training data (features)\n",
    "   data_t: training data (labels)\n",
    "   e_epoch: number of epochs\n",
    "   batch_size: mini batch size\n",
    "   \"\"\"\n",
    "   N = len(data_x)\n",
    "   for epoch in range(n_epoch):\n",
    "       shuffle_idx = np.random.permutation(N)\n",
    "       for i in range(0, N, batch_size):\n",
    "           i_end = i + batch_size\n",
    "           batch_x, batch_t = data_x[i:i_end], data_t[i:i_end]\n",
    "           _update(batch_x, batch_t)"
   ]
  },
  {
   "cell_type": "markdown",
   "metadata": {},
   "source": [
    "data_x[i:i_end], data_t[i:i_end]"
   ]
  },
  {
   "cell_type": "markdown",
   "metadata": {},
   "source": [
    "バッチサイズだけデータを取り出す処理を行っている。"
   ]
  },
  {
   "cell_type": "markdown",
   "metadata": {},
   "source": [
    "## <b>Section2: 学習率最適化手法"
   ]
  },
  {
   "cell_type": "markdown",
   "metadata": {},
   "source": [
    "<b>要点まとめ"
   ]
  },
  {
   "cell_type": "markdown",
   "metadata": {},
   "source": [
    "<b>勾配降下法を用いて誤差関数を最小化するパラメータを導出する際に、学習率をどのように設定するかが重要となる。学習率設定手法としてはモメンタム、AdaGrad、RMSProp、Adamなどの手法が存在する。新しい手法ほどより効率化が進んでおり、現在はRMSPropもしくはAdamが用いられるケースがほとんどとなっている。"
   ]
  },
  {
   "cell_type": "markdown",
   "metadata": {},
   "source": [
    "### <b>Section2の全体像（前回の流れと課題全体像のビジョン）"
   ]
  },
  {
   "cell_type": "markdown",
   "metadata": {},
   "source": [
    "* 深層学習の目的\n",
    " * 学習を通して誤差を最小にするネットワークを作成する（誤差E(w)を最小化するパラメータwを発見する）\n",
    "   * 勾配降下法を利用してパラメータを最適化\n",
    "<br><br>\n",
    "* 学習率の復習\n",
    " * 学習率が大きすぎると最適値にたどり着かず発散、小さすぎると収束までに時間がかかってしまう\n",
    "<br><br>\n",
    "* 初期の学習率設定方法の指針\n",
    " * 初期の学習率を大きく設定し、徐々に学習率を小さくしていく\n",
    "   * パラメータごとに学習率を可変させる\n",
    "     * 以下で紹介する学習率最適化手法を利用する"
   ]
  },
  {
   "cell_type": "markdown",
   "metadata": {},
   "source": [
    "### <b>2-1 モメンタム"
   ]
  },
  {
   "cell_type": "markdown",
   "metadata": {},
   "source": [
    "* 数式\n",
    "$$\n",
    " V_{t} = \\mu V_{t-1} - \\epsilon \\nabla E\n",
    "$$"
   ]
  },
  {
   "cell_type": "markdown",
   "metadata": {},
   "source": [
    "* コード<br>\n",
    "self.v[key] = self.momentum* self.v[key] -self.learning_rate* grad[key]"
   ]
  },
  {
   "cell_type": "markdown",
   "metadata": {},
   "source": [
    "* 特徴\n",
    " * 誤差をパラメータで微分したものと学習率の積を減算した後、現在の重みに前回の重みを減算した値と慣性の積を加算する（勾配降下法がジグザグ運転のような動きをするのに対し、モメンタムは株価の移動平均のような動きをする）。\n",
    "<br><br>\n",
    "* メリット\n",
    " * 局所的最適解にはならず、大域的最適解となる。\n",
    " * 谷間についてから最も低い位置(最適値)にいくまでの時間が早い。"
   ]
  },
  {
   "cell_type": "markdown",
   "metadata": {},
   "source": [
    "### <b>確認テスト5"
   ]
  },
  {
   "cell_type": "markdown",
   "metadata": {},
   "source": [
    "#### <b>【問題】"
   ]
  },
  {
   "cell_type": "markdown",
   "metadata": {},
   "source": [
    "モメンタム・AdaGrad・RMSPropの特徴をそれぞれ簡潔に説明せよ。"
   ]
  },
  {
   "cell_type": "markdown",
   "metadata": {},
   "source": [
    "#### <b>【解答】"
   ]
  },
  {
   "cell_type": "markdown",
   "metadata": {},
   "source": [
    "* モメンタム\n",
    " * 誤差をパラメータで微分したものと学習率の積を減算した後、現在の重みに前回の重みを減算した値と慣性の積を加算する\n",
    "* AdaGrad\n",
    " * 誤差をパラメータで微分したものと再定義した学習率の積を減算する\n",
    "* RMSProp\n",
    " * gradの大きさに応じて学習率を調整する"
   ]
  },
  {
   "cell_type": "markdown",
   "metadata": {},
   "source": [
    "#### <b>「確認テスト5」について自身の考察結果"
   ]
  },
  {
   "cell_type": "markdown",
   "metadata": {},
   "source": [
    "<b>モメンタムは1990年代に提唱された手法で、物理でいう慣性の考え方を適用し最適化の進行方向に学習を加速させることで学習の停滞を防ぐ手法。AdaGradはオンライン学習で学習率を自動調整する手法。RMSPropはgradの大きさに応じて学習率を調整する手法であり、現在用いられているのはRMSPropとAdamがほとんどとなっている。"
   ]
  },
  {
   "cell_type": "markdown",
   "metadata": {},
   "source": [
    "* <b>【参考文献】\n",
    "    * ディープラーニングG検定公式テキスト, 日本ディープラーニング協会（2018）, p148\n",
    "    * [AdaGradのすすめ](https://qiita.com/ak11/items/7f63a1198c345a138150), 2020.12.19 アクセス\n",
    "    * [【2020決定版】スーパーわかりやすい最適化アルゴリズム -損失関数からAdamとニュートン法-](https://qiita.com/omiita/items/1735c1d048fe5f611f80#:~:text=6.-,RMSProp,%E3%81%97%E3%81%A6%E3%81%84%E3%82%8B%E3%81%AE%E3%81%A7%E3%81%97%E3%81%9F%E3%80%82&text=RMSProp%E3%81%AFgrad%E3%81%AE%E5%A4%A7%E3%81%8D,%E8%AA%BF%E6%95%B4%E3%81%99%E3%82%8B%E3%80%81%E3%81%A8%E3%81%84%E3%81%86%E3%82%82%E3%81%AE%E3%81%A7%E3%81%99%E3%80%82), 2020.12.19 アクセス"
   ]
  },
  {
   "cell_type": "markdown",
   "metadata": {},
   "source": [
    "### <b>2-2 AdaGrad"
   ]
  },
  {
   "cell_type": "markdown",
   "metadata": {},
   "source": [
    "* 数式\n",
    "$$\n",
    "h_{0} = \\theta\n",
    "$$\n",
    "$$\n",
    "h_{t} = h_{t-1} + (\\nabla E)^{2}\n",
    "$$\n",
    "$$\n",
    "w^{(t+1)} = w^{(t)} - \\epsilon \\frac{1}{\\sqrt{h_{t}} + \\theta} \\nabla E\n",
    "$$"
   ]
  },
  {
   "cell_type": "markdown",
   "metadata": {},
   "source": [
    "* コード<br>\n",
    "self.h[key] = np.zeros_like(val)<br>\n",
    "self.h[key] += grad[key] * grad[key]<br>\n",
    "params[key] -= self.learning_rate* grad[key] / (np.sqrt(self.h[key]) + 1e-7)"
   ]
  },
  {
   "cell_type": "markdown",
   "metadata": {},
   "source": [
    "* 特徴\n",
    " * 誤差をパラメータで微分したものと再定義した学習率の積を減算する\n",
    "<br><br>\n",
    "* メリット\n",
    " * 勾配の緩やかな斜面に対して、最適値に近づける\n",
    "<br><br>\n",
    "* 課題\n",
    " * 学習率が徐々に小さくなるので、鞍点問題を引き起こす事があった"
   ]
  },
  {
   "cell_type": "markdown",
   "metadata": {},
   "source": [
    "### <b>2-3 RMSProp"
   ]
  },
  {
   "cell_type": "markdown",
   "metadata": {},
   "source": [
    "* 数式\n",
    "$$\n",
    "h_{t} = \\alpha h_{t-1} + (1 - \\alpha)(\\nabla E)^{2}\n",
    "$$\n",
    "$$\n",
    "w^{(t+1)} = w^{(t)} - \\epsilon \\frac{1}{\\sqrt{h_{t}} + \\theta} \\nabla E\n",
    "$$"
   ]
  },
  {
   "cell_type": "markdown",
   "metadata": {},
   "source": [
    "* コード<br>\n",
    "self.h[key] * = self.decay_rate<br>\n",
    "self.h[key] += (1 -self.decay_rate) * grad[key] * grad[key]<br>\n",
    "params[key] -= self.learning_rate* grad[key] / (np.sqrt(self.h[key]) + 1e-7)"
   ]
  },
  {
   "cell_type": "markdown",
   "metadata": {},
   "source": [
    "* 特徴\n",
    " * 誤差をパラメータで微分したものと再定義した学習率の積を減算する\n",
    "<br><br>\n",
    "* RMSPropのメリット\n",
    " * 局所的最適解にはならず、大域的最適解となる。\n",
    " * ハイパーパラメータの調整が必要な場合が少ない"
   ]
  },
  {
   "cell_type": "markdown",
   "metadata": {},
   "source": [
    "### <b>2-4 Adam"
   ]
  },
  {
   "cell_type": "markdown",
   "metadata": {},
   "source": [
    "* 特徴\n",
    " * モメンタムの、過去の勾配の指数関数的減衰平均\n",
    " * RMSPropの、過去の勾配の2乗の指数関数的減衰平均上記をそれぞれ孕んだ最適化アルゴリズム\n",
    " <br><br>\n",
    "* メリット\n",
    " * モメンタムおよびRMSPropのメリットを孕んだアルゴリズム"
   ]
  },
  {
   "cell_type": "markdown",
   "metadata": {},
   "source": [
    "## <b>Section3: 過学習"
   ]
  },
  {
   "cell_type": "markdown",
   "metadata": {},
   "source": [
    "<b>要点まとめ"
   ]
  },
  {
   "cell_type": "markdown",
   "metadata": {},
   "source": [
    "<b>勾配降下法を用いて誤差関数を最小化させるパラメータを導出する際に、過学習を防ぐことがモデルの汎化性能を保つ上で重要となる。過学習の原因にはパラメータ数やノード数の多さなどが挙げられ、それを防ぐ手法としてL1, L2正則化（LASSO正則化やRidge正則化とも呼ばれる）という正則化手法やドロップアウトなどの手法がある。"
   ]
  },
  {
   "cell_type": "markdown",
   "metadata": {},
   "source": [
    "### <b>Section3の全体像（前回の流れと課題全体像のビジョン）"
   ]
  },
  {
   "cell_type": "markdown",
   "metadata": {},
   "source": [
    "* 過学習の復習\n",
    " * テスト誤差と訓練誤差とで学習曲線が乖離すること（特定の訓練サンプルに対して、特化して学習する）\n",
    " * 原因\n",
    "   * パラメータの数が多い\n",
    "   * パラメータの値が適切ではない\n",
    "   * ノードが多い"
   ]
  },
  {
   "cell_type": "markdown",
   "metadata": {},
   "source": [
    "### <b>3-1 L1正則化、L2正則化"
   ]
  },
  {
   "cell_type": "markdown",
   "metadata": {},
   "source": [
    "* 正則化\n",
    " * ネットワークの自由度(層数、ノード数、パラメータの値etc...)を制約すること\n",
    "   * 正則化手法を利用して過学習を抑制する"
   ]
  },
  {
   "cell_type": "markdown",
   "metadata": {},
   "source": [
    "### <b>確認テスト6"
   ]
  },
  {
   "cell_type": "markdown",
   "metadata": {},
   "source": [
    "#### <b>【問題】"
   ]
  },
  {
   "cell_type": "markdown",
   "metadata": {},
   "source": [
    "機械学習で使われる線形モデルの正則化は、モデルの重みを制限することで可能となる。正則化手法の一つであるリッジ回帰の特徴を述べよ。"
   ]
  },
  {
   "cell_type": "markdown",
   "metadata": {},
   "source": [
    "#### <b>【解答】"
   ]
  },
  {
   "cell_type": "markdown",
   "metadata": {},
   "source": [
    "リッジ回帰の場合、隠れ層に対して正則化項を加える。"
   ]
  },
  {
   "cell_type": "markdown",
   "metadata": {},
   "source": [
    "#### <b>「確認テスト6」について自身の考察結果"
   ]
  },
  {
   "cell_type": "markdown",
   "metadata": {},
   "source": [
    "<b>線形回帰に対してL1正則化を適用した手法をLASSO回帰、L2正則化を適用した手法をRedge回帰という。また、両者を組み合わせた手法をElastic Netという。"
   ]
  },
  {
   "cell_type": "markdown",
   "metadata": {},
   "source": [
    "* <b>【参考文献】\n",
    "    * ディープラーニングG検定公式テキスト, 日本ディープラーニング協会（2018）, p110\n",
    "    * [リッジ回帰の実装](https://qiita.com/K_Noguchi/items/3f5cf527d6f6d46767fb#:~:text=%E3%83%AA%E3%83%83%E3%82%B8%E5%9B%9E%E5%B8%B0%E3%81%A8%E3%81%AF%E9%81%8E,%E4%B8%80%E3%81%A4%E3%81%A8%E3%82%82%E8%A8%80%E3%81%88%E3%81%BE%E3%81%99%E3%80%82), 2020.12.19 アクセス"
   ]
  },
  {
   "cell_type": "markdown",
   "metadata": {},
   "source": [
    "* 過学習の原因\n",
    " * 重みが大きい値をとることで、過学習が発生することがある。\n",
    "   * 学習させていくと、重みにばらつきが発生する。重みが大きい値は、学習において重要な値であり、重みが大きいと過学習が起こる過学習がおこりそうな重みの大きさ以下で重みをコントロールし、かつ重みの大きさにばらつきを出す必要がある。\n",
    "<br><br>\n",
    "* 過学習の解決策\n",
    " * 誤差に対して、正則化項を加算することで、重みを抑制する\n",
    "   * 学習させていくと、重みにばらつきが発生する。重みが大きい値は、学習において重要な値であり、重みが大きいと過学習が起こる過学習がおこりそうな重みの大きさ以下で重みをコントロールし、かつ重みの大きさにばらつきを出す必要がある。"
   ]
  },
  {
   "cell_type": "markdown",
   "metadata": {},
   "source": [
    "* 数式\n",
    "$$\n",
    "E_{n}(w) + \\frac{1}{p} \\lambda || x ||_{p} \n",
    "$$\n",
    "$$\n",
    "|| x ||_{p}  = (|x_{1}|^{p} + \\cdots + |x_{n}|^{p})^{\\frac{1}{p}}\n",
    "$$"
   ]
  },
  {
   "cell_type": "markdown",
   "metadata": {},
   "source": [
    "p = 1のときL1正則化（LASSO回帰、マンハッタン距離を用いる）、p = 2のときL2正則化（Ridge回帰、ユークリッド距離を用いる）と呼ぶ。"
   ]
  },
  {
   "cell_type": "markdown",
   "metadata": {},
   "source": [
    "* コード<br>\n",
    "np.sum(np.abs(network.params['W' + str(idx)]))<br>\n",
    "weight_decay+= weight_decay_lambda * np.sum(np.abs(network.params['W' + str(idx)]))<br>\n",
    "loss = network.loss(x_batch, d_batch) + weight_decay"
   ]
  },
  {
   "cell_type": "markdown",
   "metadata": {},
   "source": [
    "### <b>確認テスト7"
   ]
  },
  {
   "cell_type": "markdown",
   "metadata": {},
   "source": [
    "#### <b>【問題】"
   ]
  },
  {
   "cell_type": "markdown",
   "metadata": {},
   "source": [
    "L1正則化を表しているグラフはどちらか答えよ。"
   ]
  },
  {
   "attachments": {
    "a9c90a52-1e6a-4fd0-9f15-d423f04f27ae.png": {
     "image/png": "[encoded data removed]"
    }
   },
   "cell_type": "markdown",
   "metadata": {},
   "source": [
    "![確認テスト_Day2_07.png](attachment:a9c90a52-1e6a-4fd0-9f15-d423f04f27ae.png)"
   ]
  },
  {
   "cell_type": "markdown",
   "metadata": {},
   "source": [
    "#### <b>【解答】"
   ]
  },
  {
   "cell_type": "markdown",
   "metadata": {},
   "source": [
    "L1正則化は右図（LASSO回帰）"
   ]
  },
  {
   "cell_type": "markdown",
   "metadata": {},
   "source": [
    "#### <b>「確認テスト7」について自身の考察結果"
   ]
  },
  {
   "cell_type": "markdown",
   "metadata": {},
   "source": [
    "* <b>L1正則化\n",
    "    * 一部のパラメータの値をゼロにすることで特徴選択を行うようにする手法。\n",
    "* <b>L2正則化\n",
    "    * パラメータの大きさに応じてゼロに近づけることで、汎化されたなめらかなモデルを得る手法。"
   ]
  },
  {
   "cell_type": "markdown",
   "metadata": {},
   "source": [
    "* <b>【参考文献】\n",
    "    * ディープラーニングG検定公式テキスト, 日本ディープラーニング協会（2018）, p110"
   ]
  },
  {
   "cell_type": "markdown",
   "metadata": {},
   "source": [
    "### <b>例題チャレンジ2"
   ]
  },
  {
   "cell_type": "markdown",
   "metadata": {},
   "source": [
    "#### <b>【問題】"
   ]
  },
  {
   "cell_type": "markdown",
   "metadata": {},
   "source": [
    "あるパラメータparamと正則化がないときにそのパラメータに伝播される誤差の勾配gradが与えられたとする。最終的に勾配を計算する（え）にあてはまるのは何か。ただし、rateはL2正則化の係数を表すとする。"
   ]
  },
  {
   "cell_type": "code",
   "execution_count": 2,
   "metadata": {},
   "outputs": [],
   "source": [
    "# def ridge(param, grad, rate):\n",
    "#     \"\"\"\n",
    "#     param: target parameter\n",
    "#     grad: gradients to param\n",
    "#     rate: ridge coefficient\n",
    "#     \"\"\"\n",
    "#     grad += rate * (   え   )"
   ]
  },
  {
   "cell_type": "markdown",
   "metadata": {},
   "source": [
    "#### <b>【解答】"
   ]
  },
  {
   "cell_type": "code",
   "execution_count": 4,
   "metadata": {},
   "outputs": [],
   "source": [
    "def ridge(param, grad, rate):\n",
    "    \"\"\"\n",
    "    param: target parameter\n",
    "    grad: gradients to param\n",
    "    rate: ridge coefficient\n",
    "    \"\"\"\n",
    "    grad += rate * (param)"
   ]
  },
  {
   "cell_type": "markdown",
   "metadata": {},
   "source": [
    "param"
   ]
  },
  {
   "cell_type": "markdown",
   "metadata": {},
   "source": [
    "L2ノルムは、||param||^2なのでその勾配が誤差の勾配に加えられる。つまり、2 * paramであるが、係数2は正則化の係数に吸収されても変わらないのでparamとなる。"
   ]
  },
  {
   "cell_type": "markdown",
   "metadata": {},
   "source": [
    "### <b>例題チャレンジ3"
   ]
  },
  {
   "cell_type": "markdown",
   "metadata": {},
   "source": [
    "#### <b>【問題】"
   ]
  },
  {
   "cell_type": "markdown",
   "metadata": {},
   "source": [
    "あるパラメータparamと正則化がないときにそのパラメータに伝播される誤差の勾配gradが与えられたとする。最終的に勾配を計算する（お）にあてはまるのは何か。ただし、rateはL1正則化の係数を表すとする。"
   ]
  },
  {
   "cell_type": "code",
   "execution_count": 3,
   "metadata": {},
   "outputs": [],
   "source": [
    "# def lasso(param, grad, rate):\n",
    "#     \"\"\"\n",
    "#     param: target parameter\n",
    "#     grad: gradients to param\n",
    "#     rate: lasso coefficient\n",
    "#     \"\"\"\n",
    "#     x = (   お   )\n",
    "#     grad += rate * x"
   ]
  },
  {
   "cell_type": "markdown",
   "metadata": {},
   "source": [
    "#### <b>【解答】"
   ]
  },
  {
   "cell_type": "code",
   "execution_count": 1,
   "metadata": {},
   "outputs": [],
   "source": [
    "def lasso(param, grad, rate):\n",
    "    \"\"\"\n",
    "    param: target parameter\n",
    "    grad: gradients to param\n",
    "    rate: lasso coefficient\n",
    "    \"\"\"\n",
    "    x = (sign(param))\n",
    "    grad += rate * x"
   ]
  },
  {
   "cell_type": "markdown",
   "metadata": {},
   "source": [
    "sign(param)"
   ]
  },
  {
   "cell_type": "markdown",
   "metadata": {},
   "source": [
    "L1ノルムは|param|でありその勾配が誤差の勾配に加えられるため、sign(param)となる。"
   ]
  },
  {
   "cell_type": "markdown",
   "metadata": {},
   "source": [
    "### <b>例題チャレンジ4"
   ]
  },
  {
   "cell_type": "markdown",
   "metadata": {},
   "source": [
    "#### <b>【問題】"
   ]
  },
  {
   "cell_type": "markdown",
   "metadata": {},
   "source": [
    "画像をランダムに切り取る処理を行う以下のプログラムにおいて、（か）に当てはまるものは何か。"
   ]
  },
  {
   "cell_type": "code",
   "execution_count": 4,
   "metadata": {},
   "outputs": [],
   "source": [
    "# def random_crop(image, crop_size):\n",
    "#     \"\"\"\n",
    "#     image: (height, width, channel)\n",
    "#     crop_size: (crop_height, crop_width)\n",
    "#     height >= crop_height, width >= crop_width\n",
    "#     \"\"\"\n",
    "#     h, w, _ = image.shape\n",
    "#     crop_h, crop_w = crop_size\n",
    "#     \n",
    "#     # 切り取る位置をランダムに決める\n",
    "#     top = np.random.randint(0, h - crop_h)\n",
    "#     left = np.random.randint(0, w - crop_w)\n",
    "#     bottom = top + crop_h\n",
    "#     right = left + crop_w\n",
    "#     \n",
    "#     image = (   か   )\n",
    "#     return image"
   ]
  },
  {
   "cell_type": "markdown",
   "metadata": {},
   "source": [
    "#### <b>【解答】"
   ]
  },
  {
   "cell_type": "code",
   "execution_count": 2,
   "metadata": {},
   "outputs": [],
   "source": [
    "def random_crop(image, crop_size):\n",
    "    \"\"\"\n",
    "    image: (height, width, channel)\n",
    "    crop_size: (crop_height, crop_width)\n",
    "    height >= crop_height, width >= crop_width\n",
    "    \"\"\"\n",
    "    h, w, _ = image.shape\n",
    "    crop_h, crop_w = crop_size\n",
    "    \n",
    "    # 切り取る位置をランダムに決める\n",
    "    top = np.random.randint(0, h - crop_h)\n",
    "    left = np.random.randint(0, w - crop_w)\n",
    "    bottom = top + crop_h\n",
    "    right = left + crop_w\n",
    "    \n",
    "    image = (image[top:bottom, left:right, :])\n",
    "    return image"
   ]
  },
  {
   "cell_type": "markdown",
   "metadata": {},
   "source": [
    "image[top:bottom, left:right, :] "
   ]
  },
  {
   "cell_type": "markdown",
   "metadata": {},
   "source": [
    "imageの形式が(縦幅, 横幅, チャンネル)であるのも考慮する。"
   ]
  },
  {
   "cell_type": "markdown",
   "metadata": {},
   "source": [
    "### <b>3-2 ドロップアウト"
   ]
  },
  {
   "cell_type": "markdown",
   "metadata": {},
   "source": [
    "* 過学習の課題\n",
    " * ノードの数が多い\n",
    "   * ドロップアウトでランダムにノードを削除することで、過学習を防ぐ（データ量を変化させずに、異なるモデルを学習させていると解釈できる）"
   ]
  },
  {
   "cell_type": "markdown",
   "metadata": {},
   "source": [
    "## <b>Section4: 畳み込みニューラルネットワークの概念"
   ]
  },
  {
   "cell_type": "markdown",
   "metadata": {},
   "source": [
    "<b>要点まとめ"
   ]
  },
  {
   "cell_type": "markdown",
   "metadata": {},
   "source": [
    "<b>畳み込みニューラルネットワーク（CNN）では、畳み込み層とプーリング層を用いた演算が行われる。畳み込み層ではバイアス、パディング、ストライド、チャンネルなどの情報を基にフィルタ演算処理を施す。プーリング層では最大値や平均値等あらかじめ与えられたルールに基づき特徴抽出を行う層である。"
   ]
  },
  {
   "cell_type": "markdown",
   "metadata": {},
   "source": [
    "### <b>Section4の全体像（CNNの構造図）"
   ]
  },
  {
   "cell_type": "markdown",
   "metadata": {},
   "source": [
    "* CNNの構造\n",
    " * 入力層（入力画像）\n",
    " * 畳み込み層\n",
    " * 畳み込み層\n",
    " * プーリング層\n",
    " * 畳み込み層\n",
    " * 畳み込み層\n",
    " * プーリング層\n",
    " * 全結合層\n",
    " * 出力層（出力画像）"
   ]
  },
  {
   "cell_type": "markdown",
   "metadata": {},
   "source": [
    "### <b>4-1 畳み込み層"
   ]
  },
  {
   "cell_type": "markdown",
   "metadata": {},
   "source": [
    "* 畳み込み層\n",
    " * 畳み込み層では、画像の場合、縦、横、チャンネルの3次元のデータをそのまま学習し、次に伝えることができる（3次元の空間情報も学習できるような層が畳み込み層である）。"
   ]
  },
  {
   "cell_type": "markdown",
   "metadata": {},
   "source": [
    "#### <b>4-1-1 バイアス"
   ]
  },
  {
   "cell_type": "markdown",
   "metadata": {},
   "source": [
    "* 畳み込みの演算概念（バイアス）"
   ]
  },
  {
   "attachments": {
    "482e40f1-58ad-426f-80f0-8b61f0053349.png": {
     "image/png": "[encoded data removed]"
    }
   },
   "cell_type": "markdown",
   "metadata": {},
   "source": [
    "![畳み込みの演算概念（バイアス）_Day2.png](attachment:482e40f1-58ad-426f-80f0-8b61f0053349.png)"
   ]
  },
  {
   "cell_type": "markdown",
   "metadata": {},
   "source": [
    "#### <b>4-1-2 パディング"
   ]
  },
  {
   "cell_type": "markdown",
   "metadata": {},
   "source": [
    "* 畳み込みの演算概念（パディング）"
   ]
  },
  {
   "attachments": {
    "22c9137b-9070-4259-9097-e45c8961ca41.png": {
     "image/png": "[encoded data removed]"
    }
   },
   "cell_type": "markdown",
   "metadata": {},
   "source": [
    "![畳み込みの演算概念（パディング）_Day2.png](attachment:22c9137b-9070-4259-9097-e45c8961ca41.png)"
   ]
  },
  {
   "cell_type": "markdown",
   "metadata": {},
   "source": [
    "0で埋めればゼロパディング（ゼロでなくともよい）。"
   ]
  },
  {
   "cell_type": "markdown",
   "metadata": {},
   "source": [
    "#### <b>4-1-3 ストライド"
   ]
  },
  {
   "cell_type": "markdown",
   "metadata": {},
   "source": [
    "* 畳み込みの演算概念（ストライド）（ストライド: 2の場合）"
   ]
  },
  {
   "attachments": {
    "968c314a-dd7b-4ac9-bff1-6f1693ff03e9.png": {
     "image/png": "[encoded data removed]"
    }
   },
   "cell_type": "markdown",
   "metadata": {},
   "source": [
    "![畳み込みの演算概念（ストライド）_Day2.png](attachment:968c314a-dd7b-4ac9-bff1-6f1693ff03e9.png)"
   ]
  },
  {
   "cell_type": "markdown",
   "metadata": {},
   "source": [
    "#### <b>4-1-4 チャンネル"
   ]
  },
  {
   "cell_type": "markdown",
   "metadata": {},
   "source": [
    "* 畳み込みの演算概念（チャンネル）"
   ]
  },
  {
   "attachments": {
    "a8ce0317-4500-4a26-b92d-cf0e2a8d494f.png": {
     "image/png": "[encoded data removed]"
    }
   },
   "cell_type": "markdown",
   "metadata": {},
   "source": [
    "![畳み込みの演算概念（チャンネル）_Day2.png](attachment:a8ce0317-4500-4a26-b92d-cf0e2a8d494f.png)"
   ]
  },
  {
   "cell_type": "markdown",
   "metadata": {},
   "source": [
    "### <b>4-2 プーリング層"
   ]
  },
  {
   "cell_type": "markdown",
   "metadata": {},
   "source": [
    "* プーリング層の演算概念"
   ]
  },
  {
   "attachments": {
    "b4ce2a63-8470-4854-8848-1fb4cd97d9c6.png": {
     "image/png": "[encoded data removed]"
    }
   },
   "cell_type": "markdown",
   "metadata": {},
   "source": [
    "![畳み込みの演算概念（プーリング層）_Day2.png](attachment:b4ce2a63-8470-4854-8848-1fb4cd97d9c6.png)"
   ]
  },
  {
   "cell_type": "markdown",
   "metadata": {},
   "source": [
    "### <b>確認テスト8"
   ]
  },
  {
   "cell_type": "markdown",
   "metadata": {},
   "source": [
    "#### <b>【問題】"
   ]
  },
  {
   "cell_type": "markdown",
   "metadata": {},
   "source": [
    "サイズ6×6の入力画像を、サイズ2×2のフィルタで畳み込んだ時の出力画像のサイズを答えよ。なおストライドとパディングは1とする。"
   ]
  },
  {
   "cell_type": "markdown",
   "metadata": {},
   "source": [
    "#### <b>【解答】"
   ]
  },
  {
   "cell_type": "markdown",
   "metadata": {},
   "source": [
    "7×7"
   ]
  },
  {
   "cell_type": "markdown",
   "metadata": {},
   "source": [
    "#### <b>「確認テスト8」について自身の考察結果"
   ]
  },
  {
   "attachments": {
    "2aa8db1f-facf-4697-99b3-4758653a549d.png": {
     "image/png": "[encoded data removed]"
    }
   },
   "cell_type": "markdown",
   "metadata": {},
   "source": [
    "![確認テスト_Day2_08.png](attachment:2aa8db1f-facf-4697-99b3-4758653a549d.png)"
   ]
  },
  {
   "cell_type": "markdown",
   "metadata": {},
   "source": [
    "* 公式\n",
    " * （出力画像の高さ）＝{（入力画像の高さ）＋2×（パディング）－（フィルタの高さ）}／ストライド + 1\n",
    "   * h = (6 + 2 * 1 - 2) / 1  + 1 = 6/1 + 1 = 7\n",
    " * （出力画像の幅）＝{（入力画像の幅）＋2×（パディング）－（フィルタの幅）}／ストライド + 1\n",
    "   * w = (6 + 2 * 1 - 2) / 1  + 1 = 6/1 + 1 = 7"
   ]
  },
  {
   "cell_type": "markdown",
   "metadata": {},
   "source": [
    "## <b>Section5: 最新のCNN"
   ]
  },
  {
   "cell_type": "markdown",
   "metadata": {},
   "source": [
    "<b>要点まとめ"
   ]
  },
  {
   "cell_type": "markdown",
   "metadata": {},
   "source": [
    "<b>AlexNetは2012年のイメージネット画像認識コンテスト（ILSVRC）で、従来手法のサポートベクターマシンに代わりディープラーニングに基づくモデルとして初めて優勝したモデルである。AlexNetでは畳み込み層→プーリング層→畳み込み層→プーリング層→畳み込み層→畳み込み層→畳み込み層→プーリング層→全結合層という構造で高い精度をもったモデルとなっている。"
   ]
  },
  {
   "cell_type": "markdown",
   "metadata": {},
   "source": [
    "### <b>5-1 AlexNet"
   ]
  },
  {
   "cell_type": "markdown",
   "metadata": {},
   "source": [
    "* AlexNetのモデル説明\n",
    " * 5層の畳み込み層およびプーリング層など、それに続く3層の全結合層から構成される。\n",
    " * サイズ4096の全結合層の出力にドロップアウトを使用している。"
   ]
  },
  {
   "cell_type": "markdown",
   "metadata": {},
   "source": [
    "* <b>【参考文献】\n",
    "    * ディープラーニングG検定公式テキスト, 日本ディープラーニング協会（2018）, p163, p188"
   ]
  }
 ],
 "metadata": {
  "kernelspec": {
   "display_name": "Python 3",
   "language": "python",
   "name": "python3"
  },
  "language_info": {
   "codemirror_mode": {
    "name": "ipython",
    "version": 3
   },
   "file_extension": ".py",
   "mimetype": "text/x-python",
   "name": "python",
   "nbconvert_exporter": "python",
   "pygments_lexer": "ipython3",
   "version": "3.8.5"
  }
 },
 "nbformat": 4,
 "nbformat_minor": 4
}
